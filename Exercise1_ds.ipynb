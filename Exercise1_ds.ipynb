{
 "cells": [
  {
   "cell_type": "code",
   "execution_count": 4,
   "id": "6ac82bca",
   "metadata": {},
   "outputs": [
    {
     "name": "stdout",
     "output_type": "stream",
     "text": [
      "Original numbers\n",
      "[2 7]\n",
      "[3 7]\n",
      "Greater element\n",
      "[False False]\n",
      "Greater or equal to element\n",
      "[False  True]\n",
      "Lesser element\n",
      "[ True False]\n",
      "Lesser or equal to element\n",
      "[ True  True]\n"
     ]
    }
   ],
   "source": [
    "#Exercise 1\n",
    "#1\n",
    "import numpy as np\n",
    "x=np.array([2,7])\n",
    "y=np.array([3,7])\n",
    "print(\"Original numbers\")\n",
    "print(x)\n",
    "print(y)\n",
    "print(\"Greater element\")\n",
    "print(np.greater(x,y))\n",
    "print(\"Greater or equal to element\")\n",
    "print(np.greater_equal(x,y))\n",
    "print(\"Lesser element\")\n",
    "print(np.less(x,y))\n",
    "print(\"Lesser or equal to element\")\n",
    "print(np.less_equal(x,y))"
   ]
  },
  {
   "cell_type": "code",
   "execution_count": 6,
   "id": "9ce0ae2e",
   "metadata": {},
   "outputs": [
    {
     "name": "stdout",
     "output_type": "stream",
     "text": [
      "Array of all even integers from 30 to 70\n",
      "[30 32 34 36 38 40 42 44 46 48 50 52 54 56 58 60 62 64 66 68 70]\n"
     ]
    }
   ],
   "source": [
    "#2\n",
    "import numpy as np\n",
    "print(\"Array of all even integers from 30 to 70\")\n",
    "x=np.arange(30,71,2)\n",
    "print(x)"
   ]
  },
  {
   "cell_type": "code",
   "execution_count": 22,
   "id": "9ec20104",
   "metadata": {},
   "outputs": [
    {
     "name": "stdout",
     "output_type": "stream",
     "text": [
      "3*3 identity matrix is\n",
      "[[1. 0. 0.]\n",
      " [0. 1. 0.]\n",
      " [0. 0. 1.]]\n"
     ]
    }
   ],
   "source": [
    "#3\n",
    "import numpy as np\n",
    "print(\"3*3 identity matrix is\")\n",
    "x=np.identity(3)\n",
    "print(x)"
   ]
  },
  {
   "cell_type": "code",
   "execution_count": 12,
   "id": "2fee6343",
   "metadata": {},
   "outputs": [
    {
     "name": "stdout",
     "output_type": "stream",
     "text": [
      "original vector\n",
      "[ 0  1  2  3  4  5  6  7  8  9 10 11 12 13 14 15 16 17 18 19 20]\n",
      "After changing the sign of numbers from 9 to 15\n",
      "[  0   1   2   3   4   5   6   7   8  -9 -10 -11 -12 -13 -14 -15  16  17\n",
      "  18  19  20]\n"
     ]
    }
   ],
   "source": [
    "#4\n",
    "import numpy as np\n",
    "x=np.arange(21)\n",
    "print(\"original vector\")\n",
    "print(x)\n",
    "print(\"After changing the sign of numbers from 9 to 15\")\n",
    "x[(x>=9) & (x<=15)]*=-1\n",
    "print(x)"
   ]
  },
  {
   "cell_type": "code",
   "execution_count": 23,
   "id": "daa5e64a",
   "metadata": {},
   "outputs": [
    {
     "name": "stdout",
     "output_type": "stream",
     "text": [
      "5 * 5 matrix with main diagonal elements 1 2 3 4 5\n",
      "[[1 0 0 0 0]\n",
      " [0 2 0 0 0]\n",
      " [0 0 3 0 0]\n",
      " [0 0 0 4 0]\n",
      " [0 0 0 0 5]]\n"
     ]
    }
   ],
   "source": [
    "#5\n",
    "import numpy as np\n",
    "print(\"5 * 5 matrix with main diagonal elements 1 2 3 4 5\")\n",
    "x=np.diag([1,2,3,4,5])\n",
    "print(x)\n"
   ]
  },
  {
   "cell_type": "code",
   "execution_count": 25,
   "id": "4e2a5c8d",
   "metadata": {},
   "outputs": [
    {
     "name": "stdout",
     "output_type": "stream",
     "text": [
      "Original array\n",
      "[[1 2]\n",
      " [4 5]]\n",
      "Sum of all elements\n",
      "12\n",
      "Sum of elements in a column\n",
      "[5 7]\n",
      "Sum of elements in a row\n",
      "[3 9]\n"
     ]
    }
   ],
   "source": [
    "#6\n",
    "import numpy as np\n",
    "x=np.array([[1,2],[4,5]])\n",
    "print(\"Original array\")\n",
    "print(x)\n",
    "print(\"Sum of all elements\")\n",
    "print(np.sum(x))\n",
    "print(\"Sum of elements in each column\")\n",
    "print(np.sum(x,axis=0))\n",
    "print(\"Sum of elements in each row\")\n",
    "print(np.sum(x,axis=1))"
   ]
  },
  {
   "cell_type": "code",
   "execution_count": 15,
   "id": "50965dc3",
   "metadata": {},
   "outputs": [
    {
     "name": "stdout",
     "output_type": "stream",
     "text": [
      "Original array:\n",
      "[[ 0  1  2]\n",
      " [ 3  4  5]\n",
      " [ 6  7  8]\n",
      " [ 9 10 11]]\n",
      "After loading, content of the text file:\n",
      "[[ 0.  1.  2.]\n",
      " [ 3.  4.  5.]\n",
      " [ 6.  7.  8.]\n",
      " [ 9. 10. 11.]]\n"
     ]
    }
   ],
   "source": [
    "#7\n",
    "import numpy as np\n",
    "import os\n",
    "x = np.arange(12).reshape(4, 3)\n",
    "print(\"Original array:\")\n",
    "print(x)\n",
    "header = 'col1 col2 col3'\n",
    "np.savetxt('temp.txt', x, fmt=\"%d\", header=header) \n",
    "print(\"After loading, content of the text file:\")\n",
    "result = np.loadtxt('temp.txt')\n",
    "print(result)"
   ]
  },
  {
   "cell_type": "code",
   "execution_count": 28,
   "id": "30aa4efc",
   "metadata": {},
   "outputs": [
    {
     "name": "stdout",
     "output_type": "stream",
     "text": [
      "First array:\n",
      "[[1 2]\n",
      " [3 4]]\n",
      "Second array:\n",
      "[[1 2]\n",
      " [3 4]]\n",
      "Checking two arrays are equal or not\n",
      "True\n"
     ]
    }
   ],
   "source": [
    "#8\n",
    "import numpy as np\n",
    "print(\"First array:\")\n",
    "x= np.array([[1, 2], [3, 4]])\n",
    "print(x)\n",
    "print(\"Second array:\")\n",
    "y= np.array([[1, 2], [3, 4]])\n",
    "print(y)\n",
    "print(\"Checking two arrays are equal or not\")\n",
    "comparison = x == y\n",
    "equal_arrays = comparison.all()\n",
    "\n",
    "print(equal_arrays)\n"
   ]
  },
  {
   "cell_type": "code",
   "execution_count": 18,
   "id": "780b25ba",
   "metadata": {},
   "outputs": [
    {
     "name": "stdout",
     "output_type": "stream",
     "text": [
      "Original array:\n",
      "[[ 0  1  2  3]\n",
      " [ 4  5  6  7]\n",
      " [ 8  9 10 11]\n",
      " [12 13 14 15]]\n",
      "\n",
      "New array after swapping first and last rows of the said array:\n",
      "[[12 13 14 15]\n",
      " [ 8  9 10 11]\n",
      " [ 4  5  6  7]\n",
      " [ 0  1  2  3]]\n"
     ]
    }
   ],
   "source": [
    "#9\n",
    "import numpy as np \n",
    "nums = np.arange(16, dtype='int').reshape(-1, 4)\n",
    "print(\"Original array:\")\n",
    "print(nums)\n",
    "print(\"\\nNew array after swapping first and last rows of the said array:\")\n",
    "new_nums = nums[::-1]\n",
    "print(new_nums)\n"
   ]
  },
  {
   "cell_type": "code",
   "execution_count": 21,
   "id": "c8e1bc3b",
   "metadata": {},
   "outputs": [
    {
     "name": "stdout",
     "output_type": "stream",
     "text": [
      "first array:\n",
      "[[ 2  3  5]\n",
      " [ 6  8 10]\n",
      " [ 0 12 10]]\n",
      "Second array\n",
      "[[ 1  2  8]\n",
      " [ 5  8 12]\n",
      " [ 6 20 15]]\n",
      "Array after multipication\n",
      "[[  2   6  40]\n",
      " [ 30  64 120]\n",
      " [  0 240 150]]\n"
     ]
    }
   ],
   "source": [
    "#10\n",
    "import numpy as np\n",
    "x=np.array([[2,3,5],[6,8,10],[0,12,10]])\n",
    "y=np.array([[1,2,8],[5,8,12],[6,20,15]])\n",
    "print(\"First array:\")\n",
    "print(x)\n",
    "print(\"Second array\")\n",
    "print(y)\n",
    "print(\"Array after multipication\")\n",
    "print(np.multiply(x,y))"
   ]
  },
  {
   "cell_type": "code",
   "execution_count": null,
   "id": "e15b828a",
   "metadata": {},
   "outputs": [],
   "source": []
  }
 ],
 "metadata": {
  "kernelspec": {
   "display_name": "Python 3 (ipykernel)",
   "language": "python",
   "name": "python3"
  },
  "language_info": {
   "codemirror_mode": {
    "name": "ipython",
    "version": 3
   },
   "file_extension": ".py",
   "mimetype": "text/x-python",
   "name": "python",
   "nbconvert_exporter": "python",
   "pygments_lexer": "ipython3",
   "version": "3.9.7"
  }
 },
 "nbformat": 4,
 "nbformat_minor": 5
}
