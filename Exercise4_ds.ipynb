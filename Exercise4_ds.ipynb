{
 "cells": [
  {
   "cell_type": "code",
   "execution_count": 7,
   "id": "db8f9855",
   "metadata": {},
   "outputs": [
    {
     "name": "stdout",
     "output_type": "stream",
     "text": [
      "0         10\n",
      "1         20\n",
      "2     Python\n",
      "3        500\n",
      "4    Program\n",
      "dtype: object\n"
     ]
    }
   ],
   "source": [
    "#Excercise 4\n",
    "#1\n",
    "import pandas as pd\n",
    "x=pd.Series([10,20,\"Python\",500,\"Program\"])\n",
    "print(x)"
   ]
  },
  {
   "cell_type": "code",
   "execution_count": 14,
   "id": "3ef7efc1",
   "metadata": {},
   "outputs": [
    {
     "name": "stdout",
     "output_type": "stream",
     "text": [
      "DatetimeIndex(['2021-05-01', '2021-05-02', '2021-05-03', '2021-05-04',\n",
      "               '2021-05-05', '2021-05-06', '2021-05-07', '2021-05-08',\n",
      "               '2021-05-09', '2021-05-10', '2021-05-11', '2021-05-12'],\n",
      "              dtype='datetime64[ns]', freq='D')\n"
     ]
    }
   ],
   "source": [
    "#2\n",
    "import pandas as pd  \n",
    "per1 = pd.date_range(start ='5-1-2021', \n",
    "         end ='5-12-2021')\n",
    "print(per1)"
   ]
  },
  {
   "cell_type": "code",
   "execution_count": 17,
   "id": "3607939f",
   "metadata": {},
   "outputs": [
    {
     "name": "stdout",
     "output_type": "stream",
     "text": [
      "       Name  Age University\n",
      "0  Subhadra   23        MGU\n",
      "1   Sindhya   21        MGU\n",
      "2  Theertha   22    CALICUT\n",
      "3   Vaisakh   21         KU\n"
     ]
    }
   ],
   "source": [
    "#3\n",
    "import pandas as pd\n",
    "details = {\n",
    "    'Name' : ['Subhadra', 'Sindhya', 'Theertha', 'Vaisakh'],\n",
    "    'Age' : [23, 21, 22, 21],\n",
    "    'University' : ['MGU', 'MGU', 'CALICUT', 'KU'],\n",
    "}\n",
    "df = pd.DataFrame(details)\n",
    "print(df)"
   ]
  },
  {
   "cell_type": "code",
   "execution_count": 45,
   "id": "8ec7361f",
   "metadata": {},
   "outputs": [
    {
     "name": "stdout",
     "output_type": "stream",
     "text": [
      "      Tag  Number\n",
      "0  Python      25\n",
      "1      is      30\n",
      "2    very      26\n",
      "3    easy      22\n"
     ]
    }
   ],
   "source": [
    "#4\n",
    "import pandas as pd  \n",
    "lst = [['Python', 25], ['is', 30], \n",
    "       ['very', 26], ['easy', 22]] \n",
    "df = pd.DataFrame(lst, columns =['Tag', 'Number']) \n",
    "print(df )"
   ]
  },
  {
   "cell_type": "code",
   "execution_count": 21,
   "id": "87249dcd",
   "metadata": {},
   "outputs": [
    {
     "name": "stdout",
     "output_type": "stream",
     "text": [
      "   Id    Flowers\n",
      "0   1       Rose\n",
      "1   2      Lotus\n",
      "2   3       Lily\n",
      "3   4    Jasmine\n",
      "4   5  Rufflasia\n"
     ]
    }
   ],
   "source": [
    "#5\n",
    "import pandas as pd\n",
    "x=pd.read_csv('ex4.csv')\n",
    "print(x)"
   ]
  },
  {
   "cell_type": "code",
   "execution_count": 24,
   "id": "edc38289",
   "metadata": {},
   "outputs": [
    {
     "data": {
      "text/html": [
       "<div>\n",
       "<style scoped>\n",
       "    .dataframe tbody tr th:only-of-type {\n",
       "        vertical-align: middle;\n",
       "    }\n",
       "\n",
       "    .dataframe tbody tr th {\n",
       "        vertical-align: top;\n",
       "    }\n",
       "\n",
       "    .dataframe thead th {\n",
       "        text-align: right;\n",
       "    }\n",
       "</style>\n",
       "<table border=\"1\" class=\"dataframe\">\n",
       "  <thead>\n",
       "    <tr style=\"text-align: right;\">\n",
       "      <th></th>\n",
       "      <th>Name</th>\n",
       "      <th>Age</th>\n",
       "      <th>Course</th>\n",
       "    </tr>\n",
       "  </thead>\n",
       "  <tbody>\n",
       "    <tr>\n",
       "      <th>3</th>\n",
       "      <td>Vaisakh</td>\n",
       "      <td>21</td>\n",
       "      <td>MSC</td>\n",
       "    </tr>\n",
       "    <tr>\n",
       "      <th>0</th>\n",
       "      <td>Subhadra</td>\n",
       "      <td>22</td>\n",
       "      <td>MCA</td>\n",
       "    </tr>\n",
       "    <tr>\n",
       "      <th>2</th>\n",
       "      <td>Theertha</td>\n",
       "      <td>23</td>\n",
       "      <td>MSW</td>\n",
       "    </tr>\n",
       "    <tr>\n",
       "      <th>1</th>\n",
       "      <td>Sindhya</td>\n",
       "      <td>24</td>\n",
       "      <td>BTECH</td>\n",
       "    </tr>\n",
       "  </tbody>\n",
       "</table>\n",
       "</div>"
      ],
      "text/plain": [
       "       Name  Age Course\n",
       "3   Vaisakh   21    MSC\n",
       "0  Subhadra   22    MCA\n",
       "2  Theertha   23    MSW\n",
       "1   Sindhya   24  BTECH"
      ]
     },
     "execution_count": 24,
     "metadata": {},
     "output_type": "execute_result"
    }
   ],
   "source": [
    "#6\n",
    "import pandas as pd\n",
    "df=pd.DataFrame({'Name':['Subhadra','Sindhya','Theertha','Vaisakh'],\n",
    "                'Age':[22,24,23,21],\n",
    "               'Course':['MCA','BTECH','MSW','MSC']})\n",
    "df.sort_values(by=['Age'], ascending=True)\n",
    " "
   ]
  },
  {
   "cell_type": "code",
   "execution_count": 47,
   "id": "c4a002de",
   "metadata": {},
   "outputs": [
    {
     "name": "stdout",
     "output_type": "stream",
     "text": [
      "   index      Name  Age Course\n",
      "0      1  Subhadra   22    MCA\n",
      "1      2   Sindhya   24  BTECH\n",
      "2      3  Theertha   23    MSW\n",
      "3      4   Vaisakh   21    MSC\n"
     ]
    }
   ],
   "source": [
    "#7\n",
    "import pandas as pd\n",
    "data={'Name':['Subhadra','Sindhya','Theertha','Vaisakh'],\n",
    "                'Age':[22,24,23,21],\n",
    "               'Course':['MCA','BTECH','MSW','MSC']}\n",
    "index={1,2,3,4}\n",
    "df=pd.DataFrame(data,index)\n",
    "df.reset_index(inplace = True)\n",
    "print(df)"
   ]
  },
  {
   "cell_type": "code",
   "execution_count": 29,
   "id": "28966e8b",
   "metadata": {},
   "outputs": [
    {
     "name": "stdout",
     "output_type": "stream",
     "text": [
      "       Name  Age Course\n",
      "1  Subhadra   22    MCA\n",
      "2   Sindhya   24  BTECH\n"
     ]
    }
   ],
   "source": [
    "#8\n",
    "import pandas as pd\n",
    "data={'Name':['Subhadra','Sindhya','Theertha','Vaisakh'],\n",
    "                'Age':[22,24,23,21],\n",
    "               'Course':['MCA','BTECH','MSW','MSC']}\n",
    "index={1,2,3,4}\n",
    "df=pd.DataFrame(data,index)\n",
    "df1=df.head(2)\n",
    "print(df1)\n"
   ]
  },
  {
   "cell_type": "code",
   "execution_count": 32,
   "id": "9e302063",
   "metadata": {},
   "outputs": [
    {
     "name": "stdout",
     "output_type": "stream",
     "text": [
      "       Name Occupation  Salary\n",
      "0  Subhadra   Engineer   50000\n",
      "1   Sindhya     Doctor   40000\n",
      "2  Theertha   Engineer   56000\n",
      "3   Vaisakh     Doctor   48000\n",
      "4   Vineeth     Doctor   45000\n",
      "5     Kavya   Engineer   50000\n",
      "Occupation\n",
      "Doctor      44333.333333\n",
      "Engineer    52000.000000\n",
      "Name: Salary, dtype: float64\n"
     ]
    }
   ],
   "source": [
    "#9\n",
    "import pandas as pd\n",
    "data={'Name':['Subhadra','Sindhya','Theertha','Vaisakh','Vineeth','Kavya'],\n",
    "                'Occupation':['Engineer','Doctor','Engineer','Doctor','Doctor','Engineer'],\n",
    "               'Salary':[50000,40000,56000,48000,45000,50000]}\n",
    "df=pd.DataFrame(data)\n",
    "print(df)\n",
    "occ_average_age = df.groupby('Occupation')['Salary'].mean() \n",
    "print(occ_average_age)"
   ]
  },
  {
   "cell_type": "code",
   "execution_count": 36,
   "id": "e8ec3252",
   "metadata": {},
   "outputs": [
    {
     "name": "stdout",
     "output_type": "stream",
     "text": [
      "       Name Occupation   Salary\n",
      "0  Subhadra   Engineer      NaN\n",
      "1   Sindhya     Doctor  40000.0\n",
      "2  Theertha   Engineer  56000.0\n",
      "3   Vaisakh     Doctor  48000.0\n",
      "4   Vineeth     Doctor      NaN\n",
      "5     Kavya   Engineer  50000.0\n",
      "-----Updated dataframe----- \n",
      "       Name Occupation   Salary\n",
      "0  Subhadra   Engineer      0.0\n",
      "1   Sindhya     Doctor  40000.0\n",
      "2  Theertha   Engineer  56000.0\n",
      "3   Vaisakh     Doctor  48000.0\n",
      "4   Vineeth     Doctor      0.0\n",
      "5     Kavya   Engineer  50000.0\n"
     ]
    }
   ],
   "source": [
    "#10\n",
    "import numpy as np\n",
    "import pandas as pd\n",
    "data={'Name':['Subhadra','Sindhya','Theertha','Vaisakh','Vineeth','Kavya'],\n",
    "                'Occupation':['Engineer','Doctor','Engineer','Doctor','Doctor','Engineer'],\n",
    "               'Salary':[np.nan,40000,56000,48000,np.nan,50000]}\n",
    "df=pd.DataFrame(data)\n",
    "print(df)\n",
    "print(\"-----Updated dataframe----- \")\n",
    "df1=df.fillna(0)\n",
    "print(df1)"
   ]
  },
  {
   "cell_type": "code",
   "execution_count": 40,
   "id": "b38498bc",
   "metadata": {},
   "outputs": [
    {
     "name": "stdout",
     "output_type": "stream",
     "text": [
      "       cname  profit\n",
      "0      Wipro -120000\n",
      "1  Cognizant  200000\n",
      "2        TCS -500000\n",
      "3  Capgemini -400000\n",
      "4    Virtusa  300000\n",
      "----Updated dataframe\n",
      "       cname  profit\n",
      "0      Wipro   False\n",
      "1  Cognizant    True\n",
      "2        TCS   False\n",
      "3  Capgemini   False\n",
      "4    Virtusa    True\n"
     ]
    }
   ],
   "source": [
    "#11\n",
    "import pandas as pd\n",
    "data={'Cname':['Wipro','Cognizant','TCS','Capgemini','Virtusa'],\n",
    "              'Profit':[-120000,200000,-500000,-400000,300000]}\n",
    "df=pd.DataFrame(data)\n",
    "print(df)\n",
    "print(\"----Updated dataframe\")\n",
    "df['profit'] = df['profit'].apply(lambda x:x>0)\n",
    "print(df)"
   ]
  },
  {
   "cell_type": "code",
   "execution_count": 48,
   "id": "8f6b3bce",
   "metadata": {},
   "outputs": [
    {
     "name": "stdout",
     "output_type": "stream",
     "text": [
      "---First dataframe---\n",
      "   eid     ename  stipend\n",
      "0    1  Subhadra    10000\n",
      "1    2   Sindhya     5000\n",
      "2    3  Theertha    15000\n",
      "3    4   Vaisakh    20000\n",
      "---Second dataframe---\n",
      "   eid      designation\n",
      "0    1         engineer\n",
      "1    2  senior employee\n",
      "2    3  intern employee\n",
      "3    4         engineer\n",
      "---Merged dataframe---\n",
      "   eid     ename  stipend      designation\n",
      "0    1  Subhadra    10000         engineer\n",
      "1    2   Sindhya     5000  senior employee\n",
      "2    3  Theertha    15000  intern employee\n",
      "3    4   Vaisakh    20000         engineer\n"
     ]
    }
   ],
   "source": [
    "#12\n",
    "import pandas as pd\n",
    "data1={'eid':[1,2,3,4],\n",
    "              'ename':['Subhadra','Sindhya','Theertha','Vaisakh'],\n",
    "     'stipend':[10000,5000,15000,20000]}\n",
    "print(\"---First dataframe---\")\n",
    "df1=pd.DataFrame(data1)\n",
    "print(df1)\n",
    "data2={'eid':[1,2,3,4],\n",
    "      'designation':['engineer','senior employee','intern employee','engineer']}\n",
    "df2=pd.DataFrame(data2)\n",
    "print(\"---Second dataframe---\")\n",
    "print(df2)\n",
    "dataframe = pd.merge(df1,df2, how = 'inner', on = 'eid')\n",
    "print(\"---Merged dataframe---\")\n",
    "print(dataframe)\n"
   ]
  },
  {
   "cell_type": "code",
   "execution_count": null,
   "id": "e1886f6e",
   "metadata": {},
   "outputs": [],
   "source": []
  }
 ],
 "metadata": {
  "kernelspec": {
   "display_name": "Python 3 (ipykernel)",
   "language": "python",
   "name": "python3"
  },
  "language_info": {
   "codemirror_mode": {
    "name": "ipython",
    "version": 3
   },
   "file_extension": ".py",
   "mimetype": "text/x-python",
   "name": "python",
   "nbconvert_exporter": "python",
   "pygments_lexer": "ipython3",
   "version": "3.9.7"
  }
 },
 "nbformat": 4,
 "nbformat_minor": 5
}
